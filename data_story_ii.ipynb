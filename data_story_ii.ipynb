{
 "cells": [
  {
   "cell_type": "code",
   "execution_count": 1,
   "metadata": {
    "collapsed": false
   },
   "outputs": [
    {
     "name": "stdout",
     "output_type": "stream",
     "text": [
      "Populating the interactive namespace from numpy and matplotlib\n"
     ]
    }
   ],
   "source": [
    "import pandas as pd\n",
    "import numpy as np\n",
    "import matplotlib.pyplot as plt\n",
    "import scipy.stats as stats\n",
    "%matplotlib inline\n",
    "%pylab inline\n",
    "day_df = pd.read_csv('day.csv')\n",
    "hour_df = pd.read_csv('hour.csv')"
   ]
  },
  {
   "cell_type": "code",
   "execution_count": 2,
   "metadata": {
    "collapsed": false
   },
   "outputs": [],
   "source": [
    "winter_df = day_df[day_df['season'] == 1]\n",
    "spring_df = day_df[day_df['season'] == 2]\n",
    "summer_df = day_df[day_df['season'] == 3]\n",
    "autumn_df = day_df[day_df['season'] == 4]"
   ]
  },
  {
   "cell_type": "code",
   "execution_count": 3,
   "metadata": {
    "collapsed": false
   },
   "outputs": [],
   "source": [
    "winter_cnt = winter_df['cnt']\n",
    "spring_cnt = spring_df['cnt']\n",
    "summer_cnt = summer_df['cnt']\n",
    "autumn_cnt = autumn_df['cnt']"
   ]
  },
  {
   "cell_type": "code",
   "execution_count": 11,
   "metadata": {
    "collapsed": false
   },
   "outputs": [],
   "source": [
    "winter_yr_1 = day_df[(day_df.season == 1) & (day_df.yr == 0)]\n",
    "spring_yr_1 = day_df[(day_df.season == 2) & (day_df.yr == 0)]\n",
    "summer_yr_1 = day_df[(day_df.season == 3) & (day_df.yr == 0)]\n",
    "autumn_yr_1 = day_df[(day_df.season == 4) & (day_df.yr == 0)]"
   ]
  },
  {
   "cell_type": "code",
   "execution_count": 12,
   "metadata": {
    "collapsed": false
   },
   "outputs": [],
   "source": [
    "winter_yr_2 = day_df[(day_df.season == 1) & (day_df.yr == 1)]\n",
    "spring_yr_2 = day_df[(day_df.season == 2) & (day_df.yr == 1)]\n",
    "summer_yr_2 = day_df[(day_df.season == 3) & (day_df.yr == 1)]\n",
    "autumn_yr_2 = day_df[(day_df.season == 4) & (day_df.yr == 1)]"
   ]
  },
  {
   "cell_type": "code",
   "execution_count": 14,
   "metadata": {
    "collapsed": false
   },
   "outputs": [],
   "source": [
    "winter_cnt_yr_1 = winter_yr_1['cnt']\n",
    "spring_cnt_yr_1 = spring_yr_1['cnt']\n",
    "summer_cnt_yr_1 = summer_yr_1['cnt']\n",
    "autumn_cnt_yr_1 = autumn_yr_1['cnt']"
   ]
  },
  {
   "cell_type": "code",
   "execution_count": 15,
   "metadata": {
    "collapsed": false
   },
   "outputs": [],
   "source": [
    "winter_cnt_yr_2 = winter_yr_2['cnt']\n",
    "spring_cnt_yr_2 = spring_yr_2['cnt']\n",
    "summer_cnt_yr_2 = summer_yr_2['cnt']\n",
    "autumn_cnt_yr_2 = autumn_yr_2['cnt']"
   ]
  },
  {
   "cell_type": "code",
   "execution_count": 30,
   "metadata": {
    "collapsed": true
   },
   "outputs": [],
   "source": [
    "winter_casual_yr_1 = winter_yr_1['casual']\n",
    "spring_casual_yr_1 = spring_yr_1['casual']\n",
    "summer_casual_yr_1 = summer_yr_1['casual']\n",
    "autumn_casual_yr_1 = autumn_yr_1['casual']"
   ]
  },
  {
   "cell_type": "code",
   "execution_count": 31,
   "metadata": {
    "collapsed": true
   },
   "outputs": [],
   "source": [
    "winter_casual_yr_2 = winter_yr_2['casual']\n",
    "spring_casual_yr_2 = spring_yr_2['casual']\n",
    "summer_casual_yr_2 = summer_yr_2['casual']\n",
    "autumn_casual_yr_2 = autumn_yr_2['casual']"
   ]
  },
  {
   "cell_type": "code",
   "execution_count": 32,
   "metadata": {
    "collapsed": true
   },
   "outputs": [],
   "source": [
    "winter_registered_yr_1 = winter_yr_1['registered']\n",
    "spring_registered_yr_1 = spring_yr_1['registered']\n",
    "summer_registered_yr_1 = summer_yr_1['registered']\n",
    "autumn_registered_yr_1 = autumn_yr_1['registered']"
   ]
  },
  {
   "cell_type": "code",
   "execution_count": 33,
   "metadata": {
    "collapsed": true
   },
   "outputs": [],
   "source": [
    "winter_registered_yr_2 = winter_yr_2['registered']\n",
    "spring_registered_yr_2 = spring_yr_2['registered']\n",
    "summer_registered_yr_2 = summer_yr_2['registered']\n",
    "autumn_registered_yr_2 = autumn_yr_2['registered']"
   ]
  },
  {
   "cell_type": "code",
   "execution_count": 16,
   "metadata": {
    "collapsed": false
   },
   "outputs": [
    {
     "data": {
      "text/plain": [
       "{'boxes': [<matplotlib.lines.Line2D at 0x1748c400>,\n",
       "  <matplotlib.lines.Line2D at 0x174b47f0>,\n",
       "  <matplotlib.lines.Line2D at 0x1751b1d0>,\n",
       "  <matplotlib.lines.Line2D at 0x173f5898>],\n",
       " 'caps': [<matplotlib.lines.Line2D at 0x174a61d0>,\n",
       "  <matplotlib.lines.Line2D at 0x174a6748>,\n",
       "  <matplotlib.lines.Line2D at 0x17504860>,\n",
       "  <matplotlib.lines.Line2D at 0x17504dd8>,\n",
       "  <matplotlib.lines.Line2D at 0x1751bef0>,\n",
       "  <matplotlib.lines.Line2D at 0x175284a8>,\n",
       "  <matplotlib.lines.Line2D at 0x17528e10>,\n",
       "  <matplotlib.lines.Line2D at 0x175383c8>],\n",
       " 'fliers': [<matplotlib.lines.Line2D at 0x174b4278>,\n",
       "  <matplotlib.lines.Line2D at 0x1750e908>,\n",
       "  <matplotlib.lines.Line2D at 0x17425ef0>,\n",
       "  <matplotlib.lines.Line2D at 0x17538eb8>],\n",
       " 'means': [],\n",
       " 'medians': [<matplotlib.lines.Line2D at 0x174a6cc0>,\n",
       "  <matplotlib.lines.Line2D at 0x1750e390>,\n",
       "  <matplotlib.lines.Line2D at 0x173b84e0>,\n",
       "  <matplotlib.lines.Line2D at 0x17538940>],\n",
       " 'whiskers': [<matplotlib.lines.Line2D at 0x1748c630>,\n",
       "  <matplotlib.lines.Line2D at 0x1748cc18>,\n",
       "  <matplotlib.lines.Line2D at 0x174b4d30>,\n",
       "  <matplotlib.lines.Line2D at 0x175042e8>,\n",
       "  <matplotlib.lines.Line2D at 0x1751b400>,\n",
       "  <matplotlib.lines.Line2D at 0x1751b978>,\n",
       "  <matplotlib.lines.Line2D at 0x17429278>,\n",
       "  <matplotlib.lines.Line2D at 0x1739e400>]}"
      ]
     },
     "execution_count": 16,
     "metadata": {},
     "output_type": "execute_result"
    },
    {
     "data": {
      "image/png": "[encoded data removed]",
      "text/plain": [
       "<matplotlib.figure.Figure at 0x173759b0>"
      ]
     },
     "metadata": {},
     "output_type": "display_data"
    }
   ],
   "source": [
    "seasons_cnt_yr_1 = [winter_cnt_yr_1, spring_cnt_yr_1, summer_cnt_yr_1, autumn_cnt_yr_1]\n",
    "figure()\n",
    "title('Boxplot of Rentals by Season for Year 1')\n",
    "boxplot(seasons_cnt_yr_1)"
   ]
  },
  {
   "cell_type": "code",
   "execution_count": 17,
   "metadata": {
    "collapsed": false
   },
   "outputs": [
    {
     "data": {
      "text/plain": [
       "{'boxes': [<matplotlib.lines.Line2D at 0x1779b438>,\n",
       "  <matplotlib.lines.Line2D at 0x177b8828>,\n",
       "  <matplotlib.lines.Line2D at 0x177d0eb8>,\n",
       "  <matplotlib.lines.Line2D at 0x17838588>],\n",
       " 'caps': [<matplotlib.lines.Line2D at 0x177ab208>,\n",
       "  <matplotlib.lines.Line2D at 0x177ab780>,\n",
       "  <matplotlib.lines.Line2D at 0x177c7898>,\n",
       "  <matplotlib.lines.Line2D at 0x177c7e10>,\n",
       "  <matplotlib.lines.Line2D at 0x177ddf28>,\n",
       "  <matplotlib.lines.Line2D at 0x1782e4e0>,\n",
       "  <matplotlib.lines.Line2D at 0x178465f8>,\n",
       "  <matplotlib.lines.Line2D at 0x17846b70>],\n",
       " 'fliers': [<matplotlib.lines.Line2D at 0x177b82b0>,\n",
       "  <matplotlib.lines.Line2D at 0x177d0940>,\n",
       "  <matplotlib.lines.Line2D at 0x1782efd0>,\n",
       "  <matplotlib.lines.Line2D at 0x178546a0>],\n",
       " 'means': [],\n",
       " 'medians': [<matplotlib.lines.Line2D at 0x177abcf8>,\n",
       "  <matplotlib.lines.Line2D at 0x177d03c8>,\n",
       "  <matplotlib.lines.Line2D at 0x1782ea58>,\n",
       "  <matplotlib.lines.Line2D at 0x17854128>],\n",
       " 'whiskers': [<matplotlib.lines.Line2D at 0x1779b668>,\n",
       "  <matplotlib.lines.Line2D at 0x1779bc50>,\n",
       "  <matplotlib.lines.Line2D at 0x177b8d68>,\n",
       "  <matplotlib.lines.Line2D at 0x177c7320>,\n",
       "  <matplotlib.lines.Line2D at 0x177dd438>,\n",
       "  <matplotlib.lines.Line2D at 0x177dd9b0>,\n",
       "  <matplotlib.lines.Line2D at 0x17838ac8>,\n",
       "  <matplotlib.lines.Line2D at 0x17846080>]}"
      ]
     },
     "execution_count": 17,
     "metadata": {},
     "output_type": "execute_result"
    },
    {
     "data": {
      "image/png": "[encoded data removed]",
      "text/plain": [
       "<matplotlib.figure.Figure at 0x17554780>"
      ]
     },
     "metadata": {},
     "output_type": "display_data"
    }
   ],
   "source": [
    "seasons_cnt_yr_2 = [winter_cnt_yr_2, spring_cnt_yr_2, summer_cnt_yr_2, autumn_cnt_yr_2]\n",
    "figure()\n",
    "title('Boxplot of Rentals by Season for Year 1')\n",
    "boxplot(seasons_cnt_yr_2)"
   ]
  },
  {
   "cell_type": "code",
   "execution_count": 27,
   "metadata": {
    "collapsed": false
   },
   "outputs": [
    {
     "name": "stdout",
     "output_type": "stream",
     "text": [
      "One way anova for the null hypothesis of equal means for each season in year one, against the alternative hypothesis on unequal means for each season in year one. Value of test statistic: 161.0625167, p-value: 2.94540168732e-66\n",
      "\n",
      "There is overwhelming evidence to reject the null hypothesis that the mean rentals per season for year one are equal.\n"
     ]
    }
   ],
   "source": [
    "f_value, pvalue = stats.f_oneway(winter_cnt_yr_1, spring_cnt_yr_1, summer_cnt_yr_1, autumn_cnt_yr_1)\n",
    "print('One way anova for the null hypothesis of equal means of total rentals for each season in year one, against the alternative hypothesis on unequal means for each season in year one. \\\n",
    "Value of test statistic: {0}, p-value: {1}\\n'. format(f_value,pvalue))\n",
    "print('There is overwhelming evidence to reject the null hypothesis that the mean rentals per season for year one are equal.')"
   ]
  },
  {
   "cell_type": "code",
   "execution_count": 29,
   "metadata": {
    "collapsed": false
   },
   "outputs": [
    {
     "name": "stdout",
     "output_type": "stream",
     "text": [
      "One way anova for the null hypothesis of equal means of total rentals for each season in year two, against the alternative hypothesis on unequal means for each season in year two. Value of test statistic: 114.189218641, p-value: 4.77641214406e-52\n",
      "\n",
      "There is overwhelming evidence to reject the null hypothesis that the mean rentals per season for year two are equal.\n"
     ]
    }
   ],
   "source": [
    "f_value2, pvalue2 = stats.f_oneway(winter_cnt_yr_2, spring_cnt_yr_2, summer_cnt_yr_2, autumn_cnt_yr_2)\n",
    "print('One way anova for the null hypothesis of equal means of total rentals for each season in year two, against the alternative hypothesis on unequal means for each season in year two. \\\n",
    "Value of test statistic: {0}, p-value: {1}\\n'. format(f_value2,pvalue2))\n",
    "print('There is overwhelming evidence to reject the null hypothesis that the mean rentals per season for year two are equal.')"
   ]
  },
  {
   "cell_type": "code",
   "execution_count": 34,
   "metadata": {
    "collapsed": false
   },
   "outputs": [
    {
     "data": {
      "text/plain": [
       "{'boxes': [<matplotlib.lines.Line2D at 0x17aa49e8>,\n",
       "  <matplotlib.lines.Line2D at 0x17abfdd8>,\n",
       "  <matplotlib.lines.Line2D at 0x17ae47b8>,\n",
       "  <matplotlib.lines.Line2D at 0x17affb38>],\n",
       " 'caps': [<matplotlib.lines.Line2D at 0x17ab37b8>,\n",
       "  <matplotlib.lines.Line2D at 0x17ab3d30>,\n",
       "  <matplotlib.lines.Line2D at 0x17acae48>,\n",
       "  <matplotlib.lines.Line2D at 0x17ad9400>,\n",
       "  <matplotlib.lines.Line2D at 0x17af3518>,\n",
       "  <matplotlib.lines.Line2D at 0x17af3a90>,\n",
       "  <matplotlib.lines.Line2D at 0x17b0cba8>,\n",
       "  <matplotlib.lines.Line2D at 0x17b19160>],\n",
       " 'fliers': [<matplotlib.lines.Line2D at 0x17abf860>,\n",
       "  <matplotlib.lines.Line2D at 0x17ad9ef0>,\n",
       "  <matplotlib.lines.Line2D at 0x17aff5c0>,\n",
       "  <matplotlib.lines.Line2D at 0x17b19c50>],\n",
       " 'means': [],\n",
       " 'medians': [<matplotlib.lines.Line2D at 0x17abf2e8>,\n",
       "  <matplotlib.lines.Line2D at 0x17ad9978>,\n",
       "  <matplotlib.lines.Line2D at 0x17aff048>,\n",
       "  <matplotlib.lines.Line2D at 0x17b196d8>],\n",
       " 'whiskers': [<matplotlib.lines.Line2D at 0x17aa4c18>,\n",
       "  <matplotlib.lines.Line2D at 0x17ab3240>,\n",
       "  <matplotlib.lines.Line2D at 0x17aca358>,\n",
       "  <matplotlib.lines.Line2D at 0x17aca8d0>,\n",
       "  <matplotlib.lines.Line2D at 0x17ae49e8>,\n",
       "  <matplotlib.lines.Line2D at 0x17ae4f60>,\n",
       "  <matplotlib.lines.Line2D at 0x17b0c0b8>,\n",
       "  <matplotlib.lines.Line2D at 0x17b0c630>]}"
      ]
     },
     "execution_count": 34,
     "metadata": {},
     "output_type": "execute_result"
    },
    {
     "data": {
      "image/png": "[encoded data removed]",
      "text/plain": [
       "<matplotlib.figure.Figure at 0x173f6ba8>"
      ]
     },
     "metadata": {},
     "output_type": "display_data"
    }
   ],
   "source": [
    "seasons_registered_yr_1 = [winter_registered_yr_1, spring_registered_yr_1, summer_registered_yr_1, autumn_registered_yr_1]\n",
    "figure()\n",
    "title('Boxplot of Registered Rentals by Season for Year 1')\n",
    "boxplot(seasons_registered_yr_1)"
   ]
  },
  {
   "cell_type": "code",
   "execution_count": 35,
   "metadata": {
    "collapsed": false
   },
   "outputs": [
    {
     "data": {
      "text/plain": [
       "{'boxes': [<matplotlib.lines.Line2D at 0x17bc7550>,\n",
       "  <matplotlib.lines.Line2D at 0x17d43c50>,\n",
       "  <matplotlib.lines.Line2D at 0x17d5efd0>,\n",
       "  <matplotlib.lines.Line2D at 0x17d879b0>],\n",
       " 'caps': [<matplotlib.lines.Line2D at 0x17bd6320>,\n",
       "  <matplotlib.lines.Line2D at 0x17bd6898>,\n",
       "  <matplotlib.lines.Line2D at 0x17d529b0>,\n",
       "  <matplotlib.lines.Line2D at 0x17d52f28>,\n",
       "  <matplotlib.lines.Line2D at 0x17d78080>,\n",
       "  <matplotlib.lines.Line2D at 0x17d785f8>,\n",
       "  <matplotlib.lines.Line2D at 0x17d92710>,\n",
       "  <matplotlib.lines.Line2D at 0x17d92c88>],\n",
       " 'fliers': [<matplotlib.lines.Line2D at 0x17d433c8>,\n",
       "  <matplotlib.lines.Line2D at 0x17d5ea58>,\n",
       "  <matplotlib.lines.Line2D at 0x17d87128>,\n",
       "  <matplotlib.lines.Line2D at 0x17d9f7b8>],\n",
       " 'means': [],\n",
       " 'medians': [<matplotlib.lines.Line2D at 0x17bd6e10>,\n",
       "  <matplotlib.lines.Line2D at 0x17d5e4e0>,\n",
       "  <matplotlib.lines.Line2D at 0x17d78b70>,\n",
       "  <matplotlib.lines.Line2D at 0x17d9f240>],\n",
       " 'whiskers': [<matplotlib.lines.Line2D at 0x17bc7780>,\n",
       "  <matplotlib.lines.Line2D at 0x17bc7d68>,\n",
       "  <matplotlib.lines.Line2D at 0x17d43e80>,\n",
       "  <matplotlib.lines.Line2D at 0x17d52438>,\n",
       "  <matplotlib.lines.Line2D at 0x17d6b550>,\n",
       "  <matplotlib.lines.Line2D at 0x17d6bac8>,\n",
       "  <matplotlib.lines.Line2D at 0x17d87be0>,\n",
       "  <matplotlib.lines.Line2D at 0x17d92198>]}"
      ]
     },
     "execution_count": 35,
     "metadata": {},
     "output_type": "execute_result"
    },
    {
     "data": {
      "image/png": "[encoded data removed]",
      "text/plain": [
       "<matplotlib.figure.Figure at 0x179d6ba8>"
      ]
     },
     "metadata": {},
     "output_type": "display_data"
    }
   ],
   "source": [
    "seasons_registered_yr_2 = [winter_registered_yr_2, spring_registered_yr_2, summer_registered_yr_2, autumn_registered_yr_2]\n",
    "figure()\n",
    "title('Boxplot of Registered Rentals by Season for Year 2')\n",
    "boxplot(seasons_registered_yr_2)"
   ]
  },
  {
   "cell_type": "code",
   "execution_count": 44,
   "metadata": {
    "collapsed": false
   },
   "outputs": [
    {
     "name": "stdout",
     "output_type": "stream",
     "text": [
      "One way anova for the null hypothesis of equal means of registered rentals for spring, summer, and autumn in year one, against the alternative hypothesis on unequal means for each season in year one. Value of test statistic: 10.5350718246, p-value: 3.91955217857e-05\n",
      "\n",
      "There is overwhelming evidence to reject the null hypothesis that the mean registered rentals per season for year one are \n",
      "equal.\n",
      "\n",
      "However, for the same hypothesis comparing registered usage between spring and autumn for year one, we have a test statistic of 1.21026079294, and a p-value of 0.27275776503. So we have strong evidence to believe that mean registered rentals in spring and autumn for year one are equal.\n"
     ]
    }
   ],
   "source": [
    "f_value3, pvalue3 = stats.f_oneway(summer_registered_yr_1, spring_registered_yr_1, autumn_registered_yr_1)\n",
    "print('One way anova for the null hypothesis of equal means of registered rentals for spring, summer, and autumn in year one, against the alternative hypothesis on unequal means for each season in year one. \\\n",
    "Value of test statistic: {0}, p-value: {1}\\n'. format(f_value3,pvalue3))\n",
    "print('There is overwhelming evidence to reject the null hypothesis that the mean registered rentals per season for year one are \\nequal.\\n')\n",
    "f_value4, pvalue4 = stats.f_oneway(spring_registered_yr_1, autumn_registered_yr_1)\n",
    "print('However, for the same hypothesis comparing registered usage between spring and autumn for year one, we have a test statistic of {0}, and a p-value of {1}. So we have strong evidence to believe that mean registered rentals in spring and autumn for year one are equal.'.format(f_value4,pvalue4))"
   ]
  },
  {
   "cell_type": "code",
   "execution_count": null,
   "metadata": {
    "collapsed": true
   },
   "outputs": [],
   "source": [
    "f_value5, pvalue5 = stats.f_oneway(summer_registered_yr_1, spring_registered_yr_1, autumn_registered_yr_1)\n",
    "print('One way anova for the null hypothesis of equal means of total rentals for each season in year one, against the alternative hypothesis on unequal means for each season in year one. \\\n",
    "Value of test statistic: {0}, p-value: {1}\\n'. format(f_value5,pvalue5))\n",
    "print('There is overwhelming evidence to reject the null hypothesis that the mean rentals per season for year one are equal.')"
   ]
  },
  {
   "cell_type": "code",
   "execution_count": 45,
   "metadata": {
    "collapsed": false
   },
   "outputs": [
    {
     "data": {
      "text/plain": [
       "{'boxes': [<matplotlib.lines.Line2D at 0x17fdbd30>,\n",
       "  <matplotlib.lines.Line2D at 0x17ff6ef0>,\n",
       "  <matplotlib.lines.Line2D at 0x1933c7f0>,\n",
       "  <matplotlib.lines.Line2D at 0x19356e80>],\n",
       " 'caps': [<matplotlib.lines.Line2D at 0x17febb00>,\n",
       "  <matplotlib.lines.Line2D at 0x17ff60b8>,\n",
       "  <matplotlib.lines.Line2D at 0x1932e1d0>,\n",
       "  <matplotlib.lines.Line2D at 0x1932e748>,\n",
       "  <matplotlib.lines.Line2D at 0x19346860>,\n",
       "  <matplotlib.lines.Line2D at 0x19346dd8>,\n",
       "  <matplotlib.lines.Line2D at 0x19362ef0>,\n",
       "  <matplotlib.lines.Line2D at 0x1936d4a8>],\n",
       " 'fliers': [<matplotlib.lines.Line2D at 0x17ff6ba8>,\n",
       "  <matplotlib.lines.Line2D at 0x1933c278>,\n",
       "  <matplotlib.lines.Line2D at 0x19356908>,\n",
       "  <matplotlib.lines.Line2D at 0x1936df98>],\n",
       " 'means': [],\n",
       " 'medians': [<matplotlib.lines.Line2D at 0x17ff6630>,\n",
       "  <matplotlib.lines.Line2D at 0x1932ecc0>,\n",
       "  <matplotlib.lines.Line2D at 0x19356390>,\n",
       "  <matplotlib.lines.Line2D at 0x1936da20>],\n",
       " 'whiskers': [<matplotlib.lines.Line2D at 0x17fdbf60>,\n",
       "  <matplotlib.lines.Line2D at 0x17feb588>,\n",
       "  <matplotlib.lines.Line2D at 0x193236a0>,\n",
       "  <matplotlib.lines.Line2D at 0x19323c18>,\n",
       "  <matplotlib.lines.Line2D at 0x1933cd30>,\n",
       "  <matplotlib.lines.Line2D at 0x193462e8>,\n",
       "  <matplotlib.lines.Line2D at 0x19362400>,\n",
       "  <matplotlib.lines.Line2D at 0x19362978>]}"
      ]
     },
     "execution_count": 45,
     "metadata": {},
     "output_type": "execute_result"
    },
    {
     "data": {
      "image/png": "[encoded data removed]",
      "text/plain": [
       "<matplotlib.figure.Figure at 0x17daceb8>"
      ]
     },
     "metadata": {},
     "output_type": "display_data"
    }
   ],
   "source": [
    "seasons_casual_yr_1 = [winter_casual_yr_1, spring_casual_yr_1, summer_casual_yr_1, autumn_casual_yr_1]\n",
    "figure()\n",
    "title('Boxplot of Casual Rentals by Season for Year 1')\n",
    "boxplot(seasons_casual_yr_1)"
   ]
  },
  {
   "cell_type": "code",
   "execution_count": 46,
   "metadata": {
    "collapsed": false
   },
   "outputs": [
    {
     "data": {
      "text/plain": [
       "{'boxes': [<matplotlib.lines.Line2D at 0x19553550>,\n",
       "  <matplotlib.lines.Line2D at 0x1956e940>,\n",
       "  <matplotlib.lines.Line2D at 0x19596320>,\n",
       "  <matplotlib.lines.Line2D at 0x195af6a0>],\n",
       " 'caps': [<matplotlib.lines.Line2D at 0x19561320>,\n",
       "  <matplotlib.lines.Line2D at 0x19561898>,\n",
       "  <matplotlib.lines.Line2D at 0x1957b9b0>,\n",
       "  <matplotlib.lines.Line2D at 0x1957bf28>,\n",
       "  <matplotlib.lines.Line2D at 0x195a2080>,\n",
       "  <matplotlib.lines.Line2D at 0x195a25f8>,\n",
       "  <matplotlib.lines.Line2D at 0x195ba710>,\n",
       "  <matplotlib.lines.Line2D at 0x195bac88>],\n",
       " 'fliers': [<matplotlib.lines.Line2D at 0x1956e3c8>,\n",
       "  <matplotlib.lines.Line2D at 0x19589a58>,\n",
       "  <matplotlib.lines.Line2D at 0x195af128>,\n",
       "  <matplotlib.lines.Line2D at 0x1960b7b8>],\n",
       " 'means': [],\n",
       " 'medians': [<matplotlib.lines.Line2D at 0x19561e10>,\n",
       "  <matplotlib.lines.Line2D at 0x195894e0>,\n",
       "  <matplotlib.lines.Line2D at 0x195a2b70>,\n",
       "  <matplotlib.lines.Line2D at 0x1960b240>],\n",
       " 'whiskers': [<matplotlib.lines.Line2D at 0x19553780>,\n",
       "  <matplotlib.lines.Line2D at 0x19553d68>,\n",
       "  <matplotlib.lines.Line2D at 0x1956ee80>,\n",
       "  <matplotlib.lines.Line2D at 0x1957b438>,\n",
       "  <matplotlib.lines.Line2D at 0x19596550>,\n",
       "  <matplotlib.lines.Line2D at 0x19596ac8>,\n",
       "  <matplotlib.lines.Line2D at 0x195afbe0>,\n",
       "  <matplotlib.lines.Line2D at 0x195ba198>]}"
      ]
     },
     "execution_count": 46,
     "metadata": {},
     "output_type": "execute_result"
    },
    {
     "data": {
      "image/png": "[encoded data removed]",
      "text/plain": [
       "<matplotlib.figure.Figure at 0x17dacf28>"
      ]
     },
     "metadata": {},
     "output_type": "display_data"
    }
   ],
   "source": [
    "seasons_casual_yr_2 = [winter_casual_yr_2, spring_casual_yr_2, summer_casual_yr_2, autumn_casual_yr_2]\n",
    "figure()\n",
    "title('Boxplot of Casual Rentals by Season for Year 2')\n",
    "boxplot(seasons_casual_yr_2)"
   ]
  },
  {
   "cell_type": "code",
   "execution_count": 49,
   "metadata": {
    "collapsed": false
   },
   "outputs": [
    {
     "name": "stdout",
     "output_type": "stream",
     "text": [
      "One way anova for the null hypothesis of equal means of casual rentals for spring and summer in year one, against the alternative hypothesis on unequal means for both season in year one. Value of test statistic: 4.76746539571, p-value: 0.0302680419665\n",
      "\n",
      "There is evidence, at a significance level of 0.01, to fail to reject the null hypothesis that the mean casual rentals for spring and summer for year one are equal.\n",
      "\n",
      "The above shows that it may be worthwhile to try to incentivize rentals for registered users during winter, and for casual renters for winter and autumn.\n"
     ]
    }
   ],
   "source": [
    "f_value3, pvalue3 = stats.f_oneway(summer_casual_yr_1, spring_casual_yr_1)\n",
    "print('One way anova for the null hypothesis of equal means of casual rentals for spring and summer in year one, against the alternative hypothesis on unequal means for both season in year one. \\\n",
    "Value of test statistic: {0}, p-value: {1}\\n'. format(f_value3,pvalue3))\n",
    "print('There is evidence, at a significance level of 0.01, to fail to reject the null hypothesis that the mean casual rentals for spring and summer for year one are equal.\\n')\n",
    "\n",
    "print('The above shows that it may be worthwhile to try to incentivize rentals for registered users during winter, and for casual renters for winter and autumn.')"
   ]
  },
  {
   "cell_type": "code",
   "execution_count": null,
   "metadata": {
    "collapsed": true
   },
   "outputs": [],
   "source": []
  },
  {
   "cell_type": "code",
   "execution_count": null,
   "metadata": {
    "collapsed": true
   },
   "outputs": [],
   "source": []
  }
 ],
 "metadata": {
  "kernelspec": {
   "display_name": "Python 2",
   "language": "python",
   "name": "python2"
  },
  "language_info": {
   "codemirror_mode": {
    "name": "ipython",
    "version": 2
   },
   "file_extension": ".py",
   "mimetype": "text/x-python",
   "name": "python",
   "nbconvert_exporter": "python",
   "pygments_lexer": "ipython2",
   "version": "2.7.10"
  }
 },
 "nbformat": 4,
 "nbformat_minor": 0
}
